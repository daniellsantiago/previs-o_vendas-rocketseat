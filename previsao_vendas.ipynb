{
 "cells": [
  {
   "metadata": {},
   "cell_type": "markdown",
   "source": "# Modelo de Regressão Linear relacionado a vendas de uma loja",
   "id": "266e62bcd18b6a03"
  },
  {
   "metadata": {},
   "cell_type": "markdown",
   "source": [
    "## Transformação dos dados\n",
    "- Transformar vendas semanais em vendas mensais\n",
    "- Somar os feriados do mês\n",
    "- Transformar os meses em representação numérica, começando por 1"
   ],
   "id": "a14db90bd3b06e42"
  },
  {
   "metadata": {
    "ExecuteTime": {
     "end_time": "2024-09-18T01:37:11.708645Z",
     "start_time": "2024-09-18T01:37:11.703473Z"
    }
   },
   "cell_type": "code",
   "source": [
    "import pandas as pd\n",
    "import seaborn as sns\n",
    "import matplotlib.pyplot as plt\n",
    "from sklearn.linear_model import LinearRegression\n",
    "from sklearn.model_selection import train_test_split\n",
    "from sklearn.metrics import mean_absolute_error, r2_score"
   ],
   "id": "d22e7b9f4a7451ee",
   "outputs": [],
   "execution_count": 42
  },
  {
   "metadata": {
    "ExecuteTime": {
     "end_time": "2024-09-18T01:37:11.738735Z",
     "start_time": "2024-09-18T01:37:11.725839Z"
    }
   },
   "cell_type": "code",
   "source": [
    "# Ler apenas as tabelas que interessam\n",
    "df_vendas = pd.read_csv(\"Walmart_Sales.csv\")\n",
    "df_vendas.drop(columns=['Store', 'Temperature', 'Fuel_Price', 'CPI', 'Unemployment'], inplace=True)"
   ],
   "id": "7116dd0a1ad7bc73",
   "outputs": [],
   "execution_count": 43
  },
  {
   "metadata": {
    "ExecuteTime": {
     "end_time": "2024-09-18T01:37:11.761354Z",
     "start_time": "2024-09-18T01:37:11.752129Z"
    }
   },
   "cell_type": "code",
   "source": [
    "# Ordena Dataframe pela data das vendas (do menor para o maior)\n",
    "df_vendas['Date'] = pd.to_datetime(df_vendas['Date'], format='%d-%m-%Y')"
   ],
   "id": "c20cf7331ddaf882",
   "outputs": [],
   "execution_count": 44
  },
  {
   "metadata": {
    "ExecuteTime": {
     "end_time": "2024-09-18T01:37:11.788064Z",
     "start_time": "2024-09-18T01:37:11.777809Z"
    }
   },
   "cell_type": "code",
   "source": [
    "# Cria novo Dataframe agrupando as vendas semanais em MENSAIS\n",
    "df_vendas.set_index('Date', inplace=True)\n",
    "\n",
    "# Reamostrando os dados para ter as vendas mensais somando Weekly_Sales\n",
    "df_vendas_mensal = df_vendas.resample('ME').agg({\n",
    "    'Weekly_Sales': 'sum',  # Somar as vendas semanais dentro de cada mês\n",
    "    'Holiday_Flag': 'sum'   # Somar valor de Holiday_Flag dentro de cada mês\n",
    "}).reset_index()\n",
    "df_vendas_mensal.rename(columns={'Weekly_Sales': 'vendas_mensais', 'Holiday_Flag': 'feriados', 'Date': 'data'}, inplace=True)"
   ],
   "id": "14436a9056c28156",
   "outputs": [],
   "execution_count": 45
  },
  {
   "metadata": {
    "ExecuteTime": {
     "end_time": "2024-09-18T01:37:11.826751Z",
     "start_time": "2024-09-18T01:37:11.816477Z"
    }
   },
   "cell_type": "code",
   "source": [
    "# Transforma as datas em numéricos para comparação futura\n",
    "df_vendas_mensal['data'] = range(1, len(df_vendas_mensal) + 1)\n",
    "df_vendas_mensal.info()"
   ],
   "id": "7f82cba843a315d0",
   "outputs": [
    {
     "name": "stdout",
     "output_type": "stream",
     "text": [
      "<class 'pandas.core.frame.DataFrame'>\n",
      "RangeIndex: 33 entries, 0 to 32\n",
      "Data columns (total 3 columns):\n",
      " #   Column          Non-Null Count  Dtype  \n",
      "---  ------          --------------  -----  \n",
      " 0   data            33 non-null     int64  \n",
      " 1   vendas_mensais  33 non-null     float64\n",
      " 2   feriados        33 non-null     int64  \n",
      "dtypes: float64(1), int64(2)\n",
      "memory usage: 924.0 bytes\n"
     ]
    }
   ],
   "execution_count": 46
  },
  {
   "metadata": {
    "ExecuteTime": {
     "end_time": "2024-09-18T01:37:11.965010Z",
     "start_time": "2024-09-18T01:37:11.854896Z"
    }
   },
   "cell_type": "code",
   "source": [
    "# Correlação entre as variáveis e o target\n",
    "sns.heatmap(df_vendas_mensal.corr()[['vendas_mensais']].sort_values(by='vendas_mensais', ascending=False), annot=True, vmax=1, vmin=-1)"
   ],
   "id": "88faa081a30b8cc1",
   "outputs": [
    {
     "data": {
      "text/plain": [
       "<Axes: >"
      ]
     },
     "execution_count": 47,
     "metadata": {},
     "output_type": "execute_result"
    },
    {
     "data": {
      "text/plain": [
       "<Figure size 640x480 with 2 Axes>"
      ],
      "image/png": "[encoded data removed]"
     },
     "metadata": {},
     "output_type": "display_data"
    }
   ],
   "execution_count": 47
  },
  {
   "metadata": {},
   "cell_type": "markdown",
   "source": "## Criação e treinamento do modelos de Regressão Linear",
   "id": "3e2605a850707660"
  },
  {
   "metadata": {
    "ExecuteTime": {
     "end_time": "2024-09-18T01:37:11.977729Z",
     "start_time": "2024-09-18T01:37:11.971558Z"
    }
   },
   "cell_type": "code",
   "source": [
    "# Criação do modelo\n",
    "X = df_vendas_mensal.drop(columns=['vendas_mensais'])\n",
    "y = df_vendas_mensal['vendas_mensais']\n",
    "X_train, X_test, y_train, y_test = train_test_split(X, y, train_size=0.7, random_state=51)\n",
    "\n",
    "model = LinearRegression().fit(X_train, y_train)"
   ],
   "id": "27a97ab79a3b0890",
   "outputs": [],
   "execution_count": 48
  },
  {
   "metadata": {
    "ExecuteTime": {
     "end_time": "2024-09-18T01:37:11.991933Z",
     "start_time": "2024-09-18T01:37:11.988527Z"
    }
   },
   "cell_type": "code",
   "source": [
    "# Gerar Predições do conjunto de teste com base no Modelo 1\n",
    "y_pred = model.predict(X_test)"
   ],
   "id": "51e82c6f9894d762",
   "outputs": [],
   "execution_count": 49
  },
  {
   "metadata": {
    "ExecuteTime": {
     "end_time": "2024-09-18T01:37:12.010708Z",
     "start_time": "2024-09-18T01:37:12.005637Z"
    }
   },
   "cell_type": "code",
   "source": [
    "# R2 Score e MAE\n",
    "print(r2_score(y_test, y_pred))\n",
    "print(mean_absolute_error(y_test, y_pred))"
   ],
   "id": "624a125d2a3e3a81",
   "outputs": [
    {
     "name": "stdout",
     "output_type": "stream",
     "text": [
      "0.042737228703477737\n",
      "30943334.792113982\n"
     ]
    }
   ],
   "execution_count": 50
  },
  {
   "metadata": {
    "ExecuteTime": {
     "end_time": "2024-09-18T01:37:12.047439Z",
     "start_time": "2024-09-18T01:37:12.042482Z"
    }
   },
   "cell_type": "code",
   "source": [
    "# Criação do modelo - apenas com Data x Vendas\n",
    "X = pd.DataFrame(df_vendas_mensal['data'])\n",
    "y = df_vendas_mensal['vendas_mensais']\n",
    "X_train, X_test, y_train, y_test = train_test_split(X, y, train_size=0.7, random_state=51)\n",
    "\n",
    "model = LinearRegression().fit(X_train, y_train)"
   ],
   "id": "cb41449e8f10be0",
   "outputs": [],
   "execution_count": 51
  },
  {
   "metadata": {
    "ExecuteTime": {
     "end_time": "2024-09-18T01:37:12.055174Z",
     "start_time": "2024-09-18T01:37:12.051712Z"
    }
   },
   "cell_type": "code",
   "source": [
    "# R2 Score e MAE\n",
    "y_pred = model.predict(X_test)\n",
    "print(r2_score(y_test, y_pred))\n",
    "print(mean_absolute_error(y_test, y_pred))"
   ],
   "id": "b1d5d429aa599c5c",
   "outputs": [
    {
     "name": "stdout",
     "output_type": "stream",
     "text": [
      "-0.013896254202314218\n",
      "30361524.60077685\n"
     ]
    }
   ],
   "execution_count": 52
  },
  {
   "metadata": {
    "ExecuteTime": {
     "end_time": "2024-09-18T01:37:12.145685Z",
     "start_time": "2024-09-18T01:37:12.065764Z"
    }
   },
   "cell_type": "code",
   "source": [
    "# Mostrar como a reta foi calculada\n",
    "plt.scatter(X_test, y_test)\n",
    "plt.plot(X_test, y_pred)"
   ],
   "id": "ec67d3d43ce1a54f",
   "outputs": [
    {
     "data": {
      "text/plain": [
       "[<matplotlib.lines.Line2D at 0x1375a5510>]"
      ]
     },
     "execution_count": 53,
     "metadata": {},
     "output_type": "execute_result"
    },
    {
     "data": {
      "text/plain": [
       "<Figure size 640x480 with 1 Axes>"
      ],
      "image/png": "[encoded data removed]"
     },
     "metadata": {},
     "output_type": "display_data"
    }
   ],
   "execution_count": 53
  }
 ],
 "metadata": {
  "kernelspec": {
   "display_name": "Python 3",
   "language": "python",
   "name": "python3"
  },
  "language_info": {
   "codemirror_mode": {
    "name": "ipython",
    "version": 2
   },
   "file_extension": ".py",
   "mimetype": "text/x-python",
   "name": "python",
   "nbconvert_exporter": "python",
   "pygments_lexer": "ipython2",
   "version": "2.7.6"
  }
 },
 "nbformat": 4,
 "nbformat_minor": 5
}
